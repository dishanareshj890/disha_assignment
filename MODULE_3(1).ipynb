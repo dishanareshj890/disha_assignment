{
 "cells": [
  {
   "cell_type": "code",
   "execution_count": 11,
   "id": "c1ded9e6",
   "metadata": {},
   "outputs": [
    {
     "name": "stdout",
     "output_type": "stream",
     "text": [
      "False\n"
     ]
    }
   ],
   "source": [
    "#==>Write a Python function that takes two lists and returns true if they have at least one common member.\n",
    "\n",
    "L1=[1,2]\n",
    "L2=[3,4,5,6]\n",
    "result=False\n",
    "\n",
    "for i in L1:\n",
    "    for j in L2:\n",
    "        if i==j:\n",
    "            result=True\n",
    "print(result)\n",
    "      "
   ]
  },
  {
   "cell_type": "code",
   "execution_count": 12,
   "id": "38531489",
   "metadata": {},
   "outputs": [
    {
     "name": "stdout",
     "output_type": "stream",
     "text": [
      "1,2,3\n",
      "4,5\n",
      "True\n"
     ]
    }
   ],
   "source": [
    "\n",
    "# L1=list(input())\n",
    "# L2=list(input())\n",
    "# result=False\n",
    "\n",
    "# for i in L1:\n",
    "#     for j in L2:\n",
    "#         if i==j:\n",
    "#             result=True\n",
    "# print(result)\n",
    "      "
   ]
  },
  {
   "cell_type": "code",
   "execution_count": 17,
   "id": "62593955",
   "metadata": {},
   "outputs": [
    {
     "name": "stdout",
     "output_type": "stream",
     "text": [
      "31\n",
      "[0, 1, 4, 9, 25, 36, 49, 64, 100, 121, 144, 169, 196, 225, 256, 289, 324, 361, 400, 441, 484, 529, 576, 676, 729, 784, 841, 900]\n",
      "[0, 1, 4, 9, 25]\n",
      "[676, 729, 784, 841, 900]\n"
     ]
    }
   ],
   "source": [
    "#==>Write a Python program to generate and print a list of first and last 5 elements \n",
    "# where the values are square of numbers between 1 and 30.  \n",
    "\n",
    "list3=int(input())\n",
    "empty_list=[]\n",
    "\n",
    "for i in range(list3):\n",
    "    if i not in empty_list:\n",
    "        empty_list.append(i**2)\n",
    "print(empty_list)\n",
    "print(empty_list[:5])\n",
    "print(empty_list[-5:])"
   ]
  },
  {
   "cell_type": "code",
   "execution_count": 20,
   "id": "bd428e21",
   "metadata": {},
   "outputs": [
    {
     "name": "stdout",
     "output_type": "stream",
     "text": [
      "[0, 1, 2, 3, 4, 5, 6, 7, 8, 9]\n"
     ]
    }
   ],
   "source": [
    " #==> Write a Python function that takes a list and returns a new list with unique elements of the first list.\n",
    "    \n",
    "aa=[0,0,0,1,1,2,3,3,4,4,5,6,7,8,9,9]\n",
    "empty_=[]\n",
    "\n",
    "for i in aa:\n",
    "    if i not in empty_:\n",
    "        empty_.append(i)\n",
    "print(empty_)"
   ]
  },
  {
   "cell_type": "code",
   "execution_count": 30,
   "id": "b4e700a1",
   "metadata": {
    "scrolled": true
   },
   "outputs": [
    {
     "name": "stdout",
     "output_type": "stream",
     "text": [
      "2 3 4 5 6 7 disha\n"
     ]
    },
    {
     "data": {
      "text/plain": [
       "str"
      ]
     },
     "execution_count": 30,
     "metadata": {},
     "output_type": "execute_result"
    }
   ],
   "source": [
    "#==> Write a Python program to convert a list of characters into a string.  \n",
    "ab=[2,3,4,5,6,7,\"disha\"]\n",
    "convert=' '.join([str(i)for i in ab])\n",
    "print(convert)\n",
    "type(convert)"
   ]
  },
  {
   "cell_type": "code",
   "execution_count": 5,
   "id": "aeb10387",
   "metadata": {},
   "outputs": [
    {
     "name": "stdout",
     "output_type": "stream",
     "text": [
      "disha,23,45\n",
      " d i s h a , 2 3 4 5\n"
     ]
    }
   ],
   "source": [
    "# abc=list(input())\n",
    "# strr=\"\"\n",
    "\n",
    "# for i in abc:\n",
    "#     if i not in strr:\n",
    "#         strr=strr+\" \"+i\n",
    "# print(strr)\n"
   ]
  },
  {
   "cell_type": "code",
   "execution_count": 9,
   "id": "8361fc1f",
   "metadata": {},
   "outputs": [
    {
     "name": "stdout",
     "output_type": "stream",
     "text": [
      "22\n"
     ]
    }
   ],
   "source": [
    "#==>  Write a Python program to select an item randomly from a list.\n",
    "import random\n",
    "from random import choice\n",
    "Randomlist=[\"maths\",\"science\",\"geography\",22,33,44]\n",
    "abbb=print(random.choice(Randomlist))"
   ]
  },
  {
   "cell_type": "code",
   "execution_count": 17,
   "id": "6af278ee",
   "metadata": {},
   "outputs": [
    {
     "name": "stdout",
     "output_type": "stream",
     "text": [
      "dish\n",
      "d\n",
      "i\n",
      "i\n",
      "d\n"
     ]
    }
   ],
   "source": [
    "# Randomlist=list(input())\n",
    "\n",
    "# for i in Randomlist:\n",
    "#     print(random.choice(Randomlist))"
   ]
  },
  {
   "cell_type": "code",
   "execution_count": null,
   "id": "9047fc2e",
   "metadata": {},
   "outputs": [
    {
     "name": "stdout",
     "output_type": "stream",
     "text": [
      "3\n",
      "22\n",
      "22\n"
     ]
    }
   ],
   "source": [
    "# #==>  Write a Python program to select an item randomly from a list.\n",
    "# import random\n",
    "# from random import choice\n",
    "# acc=int(input())\n",
    "# empty_list=[]\n",
    "\n",
    "# for i in range(acc):\n",
    "#     ele=int(input())\n",
    "#     empty_list.append(ele)\n",
    "#     print(random.choice(empty_list))"
   ]
  },
  {
   "cell_type": "code",
   "execution_count": 2,
   "id": "fd30fc59",
   "metadata": {},
   "outputs": [
    {
     "name": "stdout",
     "output_type": "stream",
     "text": [
      "4\n",
      "7\n",
      "8\n",
      "5\n",
      "4\n",
      "Sorted list: [4, 5, 7, 8]\n",
      "second smallest number: 5\n"
     ]
    }
   ],
   "source": [
    "# ==> Write a Python program to find the second smallest number in a list. \n",
    "\n",
    "ab=int(input())\n",
    "empty_list=[]\n",
    "\n",
    "for i in range(1,ab+1):\n",
    "    element=int(input())\n",
    "    empty_list.append(element)\n",
    "empty_list.sort()\n",
    "print(\"Sorted list:\",empty_list)\n",
    "print(\"second smallest number:\" ,empty_list[1])\n"
   ]
  },
  {
   "cell_type": "code",
   "execution_count": 3,
   "id": "f0999889",
   "metadata": {},
   "outputs": [
    {
     "name": "stdout",
     "output_type": "stream",
     "text": [
      "['disha', 22, 33, 44, 'car', 'toy']\n"
     ]
    }
   ],
   "source": [
    "#==>Write a Python program to get unique values from a list \n",
    "u=[\"disha\",22,33,44,22,\"car\",\"toy\",\"disha\",44]\n",
    "empty_list=[]\n",
    "\n",
    "for i in u:\n",
    "    if i not in empty_list:\n",
    "        empty_list.append(i)\n",
    "print(empty_list)"
   ]
  },
  {
   "cell_type": "code",
   "execution_count": 7,
   "id": "bbcea492",
   "metadata": {},
   "outputs": [
    {
     "ename": "KeyboardInterrupt",
     "evalue": "Interrupted by user",
     "output_type": "error",
     "traceback": [
      "\u001b[1;31m---------------------------------------------------------------------------\u001b[0m",
      "\u001b[1;31mKeyboardInterrupt\u001b[0m                         Traceback (most recent call last)",
      "\u001b[1;32m~\\AppData\\Local\\Temp\\ipykernel_4928\\3483162648.py\u001b[0m in \u001b[0;36m<module>\u001b[1;34m\u001b[0m\n\u001b[1;32m----> 1\u001b[1;33m \u001b[0mu\u001b[0m\u001b[1;33m=\u001b[0m\u001b[0minput\u001b[0m\u001b[1;33m(\u001b[0m\u001b[1;33m)\u001b[0m\u001b[1;33m\u001b[0m\u001b[1;33m\u001b[0m\u001b[0m\n\u001b[0m\u001b[0;32m      2\u001b[0m \u001b[0mee\u001b[0m\u001b[1;33m=\u001b[0m\u001b[1;33m[\u001b[0m\u001b[1;33m]\u001b[0m\u001b[1;33m\u001b[0m\u001b[1;33m\u001b[0m\u001b[0m\n\u001b[0;32m      3\u001b[0m \u001b[1;32mfor\u001b[0m \u001b[0mi\u001b[0m \u001b[1;32min\u001b[0m \u001b[0mu\u001b[0m\u001b[1;33m:\u001b[0m\u001b[1;33m\u001b[0m\u001b[1;33m\u001b[0m\u001b[0m\n\u001b[0;32m      4\u001b[0m     \u001b[1;32mif\u001b[0m \u001b[0mi\u001b[0m \u001b[1;32mnot\u001b[0m \u001b[1;32min\u001b[0m \u001b[0mee\u001b[0m\u001b[1;33m:\u001b[0m\u001b[1;33m\u001b[0m\u001b[1;33m\u001b[0m\u001b[0m\n\u001b[0;32m      5\u001b[0m         \u001b[0melee\u001b[0m\u001b[1;33m=\u001b[0m\u001b[0minput\u001b[0m\u001b[1;33m(\u001b[0m\u001b[1;33m)\u001b[0m\u001b[1;33m\u001b[0m\u001b[1;33m\u001b[0m\u001b[0m\n",
      "\u001b[1;32mD:\\anaconda\\lib\\site-packages\\ipykernel\\kernelbase.py\u001b[0m in \u001b[0;36mraw_input\u001b[1;34m(self, prompt)\u001b[0m\n\u001b[0;32m   1175\u001b[0m                 \u001b[1;34m\"raw_input was called, but this frontend does not support input requests.\"\u001b[0m\u001b[1;33m\u001b[0m\u001b[1;33m\u001b[0m\u001b[0m\n\u001b[0;32m   1176\u001b[0m             )\n\u001b[1;32m-> 1177\u001b[1;33m         return self._input_request(\n\u001b[0m\u001b[0;32m   1178\u001b[0m             \u001b[0mstr\u001b[0m\u001b[1;33m(\u001b[0m\u001b[0mprompt\u001b[0m\u001b[1;33m)\u001b[0m\u001b[1;33m,\u001b[0m\u001b[1;33m\u001b[0m\u001b[1;33m\u001b[0m\u001b[0m\n\u001b[0;32m   1179\u001b[0m             \u001b[0mself\u001b[0m\u001b[1;33m.\u001b[0m\u001b[0m_parent_ident\u001b[0m\u001b[1;33m[\u001b[0m\u001b[1;34m\"shell\"\u001b[0m\u001b[1;33m]\u001b[0m\u001b[1;33m,\u001b[0m\u001b[1;33m\u001b[0m\u001b[1;33m\u001b[0m\u001b[0m\n",
      "\u001b[1;32mD:\\anaconda\\lib\\site-packages\\ipykernel\\kernelbase.py\u001b[0m in \u001b[0;36m_input_request\u001b[1;34m(self, prompt, ident, parent, password)\u001b[0m\n\u001b[0;32m   1217\u001b[0m             \u001b[1;32mexcept\u001b[0m \u001b[0mKeyboardInterrupt\u001b[0m\u001b[1;33m:\u001b[0m\u001b[1;33m\u001b[0m\u001b[1;33m\u001b[0m\u001b[0m\n\u001b[0;32m   1218\u001b[0m                 \u001b[1;31m# re-raise KeyboardInterrupt, to truncate traceback\u001b[0m\u001b[1;33m\u001b[0m\u001b[1;33m\u001b[0m\u001b[0m\n\u001b[1;32m-> 1219\u001b[1;33m                 \u001b[1;32mraise\u001b[0m \u001b[0mKeyboardInterrupt\u001b[0m\u001b[1;33m(\u001b[0m\u001b[1;34m\"Interrupted by user\"\u001b[0m\u001b[1;33m)\u001b[0m \u001b[1;32mfrom\u001b[0m \u001b[1;32mNone\u001b[0m\u001b[1;33m\u001b[0m\u001b[1;33m\u001b[0m\u001b[0m\n\u001b[0m\u001b[0;32m   1220\u001b[0m             \u001b[1;32mexcept\u001b[0m \u001b[0mException\u001b[0m\u001b[1;33m:\u001b[0m\u001b[1;33m\u001b[0m\u001b[1;33m\u001b[0m\u001b[0m\n\u001b[0;32m   1221\u001b[0m                 \u001b[0mself\u001b[0m\u001b[1;33m.\u001b[0m\u001b[0mlog\u001b[0m\u001b[1;33m.\u001b[0m\u001b[0mwarning\u001b[0m\u001b[1;33m(\u001b[0m\u001b[1;34m\"Invalid Message:\"\u001b[0m\u001b[1;33m,\u001b[0m \u001b[0mexc_info\u001b[0m\u001b[1;33m=\u001b[0m\u001b[1;32mTrue\u001b[0m\u001b[1;33m)\u001b[0m\u001b[1;33m\u001b[0m\u001b[1;33m\u001b[0m\u001b[0m\n",
      "\u001b[1;31mKeyboardInterrupt\u001b[0m: Interrupted by user"
     ]
    }
   ],
   "source": [
    "# u=input()\n",
    "# ee=[]\n",
    "# for i in u:\n",
    "#     if i not in ee:\n",
    "#         elee=input()\n",
    "#         ee.append(elee)\n",
    "# print(ee)"
   ]
  },
  {
   "cell_type": "code",
   "execution_count": 10,
   "id": "ba32014b",
   "metadata": {},
   "outputs": [
    {
     "name": "stdout",
     "output_type": "stream",
     "text": [
      "False\n",
      "True\n",
      "False\n",
      "True\n"
     ]
    }
   ],
   "source": [
    "#==>Write a Python program to check whether a list contains a sub list  \n",
    "\n",
    "og=[\"fun\",\"games\",\"ludo\",\"chess\"]\n",
    "sub=[\"games\",\"chess\"]\n",
    "for i in og:\n",
    "    if i in sub:\n",
    "        print(True)\n",
    "    else:\n",
    "        print(False)\n"
   ]
  },
  {
   "cell_type": "code",
   "execution_count": 12,
   "id": "fc60d1bf",
   "metadata": {},
   "outputs": [
    {
     "name": "stdout",
     "output_type": "stream",
     "text": [
      "singing\n",
      "dancing\n",
      "playing\n"
     ]
    }
   ],
   "source": [
    "#==>  Write a Python program to split a list into different variables. \n",
    "p=[\"singing\",\"dancing\",\"playing\"]\n",
    "s,d,c=p\n",
    "print(s)\n",
    "print(d)\n",
    "print(c)\n",
    "\n"
   ]
  },
  {
   "cell_type": "code",
   "execution_count": null,
   "id": "7b5b507f",
   "metadata": {},
   "outputs": [],
   "source": [
    "#==> What is tuple? Difference between list and tuple.  \n",
    "# Tuple is immutable,ordered,indexed,allows duplicate elements,all datatypes elements\n",
    "# difference between tuple and list is that list can be taken as dynamic but tuple cannot,list can be expressed in square bracket\n",
    "# and tuple in round bracket."
   ]
  },
  {
   "cell_type": "code",
   "execution_count": 19,
   "id": "be8b39cd",
   "metadata": {},
   "outputs": [
    {
     "name": "stdout",
     "output_type": "stream",
     "text": [
      "('list', 23, 23.3, True, ['li', 'it'], ('tuplee',), {'e', 's'}, {'dancing': 3, 'playing': 't'})\n"
     ]
    }
   ],
   "source": [
    "#==> Write a Python program to create a tuple with different data types. \n",
    "tu=(\"list\",23,23.3,True,[\"li\",\"it\"],(\"tuplee\",),{\"s\",\"e\"},{d:3,c:\"t\"})\n",
    "print(tu)"
   ]
  },
  {
   "cell_type": "code",
   "execution_count": 21,
   "id": "4c60b0f3",
   "metadata": {},
   "outputs": [
    {
     "name": "stdout",
     "output_type": "stream",
     "text": [
      "(23, 34, 5, 66, 3, 5, 6453, 2, 253, 2534, 5)\n"
     ]
    }
   ],
   "source": [
    "#==> Write a Python program to create a tuple with numbers. \n",
    "num=(23,34,5,66,3,5,6453,2,253,2534,5)\n",
    "print(num)"
   ]
  },
  {
   "cell_type": "code",
   "execution_count": 2,
   "id": "494d14a6",
   "metadata": {},
   "outputs": [
    {
     "name": "stdout",
     "output_type": "stream",
     "text": [
      "pencil erasor pen\n"
     ]
    },
    {
     "data": {
      "text/plain": [
       "str"
      ]
     },
     "execution_count": 2,
     "metadata": {},
     "output_type": "execute_result"
    }
   ],
   "source": [
    "#==>  Write a Python program to convert a tuple to a string.  \n",
    " \n",
    "a=(\"pencil\",\"erasor\",\"pen\")\n",
    "aac=\" \".join((str(i)for i in a))\n",
    "print(aac)\n",
    "type(aac)\n"
   ]
  },
  {
   "cell_type": "code",
   "execution_count": 3,
   "id": "19637eb9",
   "metadata": {},
   "outputs": [
    {
     "name": "stdout",
     "output_type": "stream",
     "text": [
      "True\n"
     ]
    }
   ],
   "source": [
    "#==> Write a Python program to check whether an element exists within a tuple. \n",
    "a=(\"pencil\",\"erasor\",\"pen\")\n",
    "print(\"pencil\" in a)\n",
    " #how to do this in loop?????????????   "
   ]
  },
  {
   "cell_type": "code",
   "execution_count": 7,
   "id": "9da903db",
   "metadata": {},
   "outputs": [
    {
     "name": "stdout",
     "output_type": "stream",
     "text": [
      "3\n"
     ]
    }
   ],
   "source": [
    "#==> Write a Python program to find the length of a tuple.\n",
    "a=(\"pencil\",\"erasor\",\"pen\")\n",
    "ABBB=print(len(a))\n"
   ]
  },
  {
   "cell_type": "code",
   "execution_count": 17,
   "id": "36c3819d",
   "metadata": {},
   "outputs": [
    {
     "name": "stdout",
     "output_type": "stream",
     "text": [
      "('disha', 22, 33, 44, 22, 'car', 'toy', 'disha', 44)\n"
     ]
    },
    {
     "data": {
      "text/plain": [
       "tuple"
      ]
     },
     "execution_count": 17,
     "metadata": {},
     "output_type": "execute_result"
    }
   ],
   "source": [
    "#==> Write a Python program to convert a list to a tuple. \n",
    "u=[\"disha\",22,33,44,22,\"car\",\"toy\",\"disha\",44]\n",
    "cc=tuple([\"disha\",22,33,44,22,\"car\",\"toy\",\"disha\",44])\n",
    "print(cc)\n",
    "type(cc)\n"
   ]
  },
  {
   "cell_type": "code",
   "execution_count": 26,
   "id": "63b8a941",
   "metadata": {},
   "outputs": [
    {
     "name": "stdout",
     "output_type": "stream",
     "text": [
      "list[23, 56.5, 'switch']\n"
     ]
    }
   ],
   "source": [
    "#==> Write a Python program to reverse a tuple.\n",
    "dd=(23,56.5,\"switch\")\n",
    "mm=list[(23,56.5,\"switch\")]\n",
    "print(mm)"
   ]
  },
  {
   "cell_type": "code",
   "execution_count": 29,
   "id": "288a1efc",
   "metadata": {},
   "outputs": [
    {
     "ename": "TypeError",
     "evalue": "descriptor 'reverse' for 'list' objects doesn't apply to a 'types.GenericAlias' object",
     "output_type": "error",
     "traceback": [
      "\u001b[1;31m---------------------------------------------------------------------------\u001b[0m",
      "\u001b[1;31mTypeError\u001b[0m                                 Traceback (most recent call last)",
      "\u001b[1;32m~\\AppData\\Local\\Temp\\ipykernel_7108\\835462457.py\u001b[0m in \u001b[0;36m<module>\u001b[1;34m\u001b[0m\n\u001b[1;32m----> 1\u001b[1;33m \u001b[0mgg\u001b[0m\u001b[1;33m=\u001b[0m\u001b[0mmm\u001b[0m\u001b[1;33m.\u001b[0m\u001b[0mreverse\u001b[0m\u001b[1;33m(\u001b[0m\u001b[0mmm\u001b[0m\u001b[1;33m)\u001b[0m\u001b[1;33m\u001b[0m\u001b[1;33m\u001b[0m\u001b[0m\n\u001b[0m\u001b[0;32m      2\u001b[0m \u001b[0mprint\u001b[0m\u001b[1;33m(\u001b[0m\u001b[0mgg\u001b[0m\u001b[1;33m)\u001b[0m\u001b[1;33m\u001b[0m\u001b[1;33m\u001b[0m\u001b[0m\n",
      "\u001b[1;31mTypeError\u001b[0m: descriptor 'reverse' for 'list' objects doesn't apply to a 'types.GenericAlias' object"
     ]
    }
   ],
   "source": [
    "gg=mm.reverse(mm)\n",
    "print(gg)"
   ]
  },
  {
   "cell_type": "code",
   "execution_count": 32,
   "id": "9468d951",
   "metadata": {},
   "outputs": [
    {
     "ename": "TypeError",
     "evalue": "unsupported operand type(s) for +: 'int' and 'list'",
     "output_type": "error",
     "traceback": [
      "\u001b[1;31m---------------------------------------------------------------------------\u001b[0m",
      "\u001b[1;31mTypeError\u001b[0m                                 Traceback (most recent call last)",
      "\u001b[1;32m~\\AppData\\Local\\Temp\\ipykernel_7108\\491178159.py\u001b[0m in \u001b[0;36m<module>\u001b[1;34m\u001b[0m\n\u001b[0;32m      3\u001b[0m \u001b[0ma\u001b[0m\u001b[1;33m=\u001b[0m\u001b[1;33m[\u001b[0m\u001b[1;33m(\u001b[0m\u001b[1;36m1\u001b[0m\u001b[1;33m,\u001b[0m\u001b[1;36m2\u001b[0m\u001b[1;33m)\u001b[0m\u001b[1;33m,\u001b[0m\u001b[1;33m(\u001b[0m\u001b[1;34m\"d\"\u001b[0m\u001b[1;33m,\u001b[0m\u001b[1;33m)\u001b[0m\u001b[1;33m,\u001b[0m\u001b[1;33m(\u001b[0m\u001b[1;34m\"m\"\u001b[0m\u001b[1;33m,\u001b[0m\u001b[1;36m34\u001b[0m\u001b[1;33m)\u001b[0m\u001b[1;33m]\u001b[0m\u001b[1;33m\u001b[0m\u001b[1;33m\u001b[0m\u001b[0m\n\u001b[0;32m      4\u001b[0m \u001b[1;32mfor\u001b[0m \u001b[0mi\u001b[0m \u001b[1;32min\u001b[0m \u001b[0ma\u001b[0m\u001b[1;33m:\u001b[0m\u001b[1;33m\u001b[0m\u001b[1;33m\u001b[0m\u001b[0m\n\u001b[1;32m----> 5\u001b[1;33m     \u001b[0mi\u001b[0m\u001b[1;33m[\u001b[0m\u001b[1;33m-\u001b[0m\u001b[1;36m1\u001b[0m\u001b[1;33m]\u001b[0m \u001b[1;33m+\u001b[0m \u001b[1;33m[\u001b[0m\u001b[1;36m43\u001b[0m\u001b[1;33m,\u001b[0m\u001b[1;33m]\u001b[0m\u001b[1;33m\u001b[0m\u001b[1;33m\u001b[0m\u001b[0m\n\u001b[0m\u001b[0;32m      6\u001b[0m \u001b[0mprint\u001b[0m\u001b[1;33m(\u001b[0m\u001b[0ma\u001b[0m\u001b[1;33m)\u001b[0m\u001b[1;33m\u001b[0m\u001b[1;33m\u001b[0m\u001b[0m\n",
      "\u001b[1;31mTypeError\u001b[0m: unsupported operand type(s) for +: 'int' and 'list'"
     ]
    }
   ],
   "source": [
    "# # Write a Python program to replace last value of tuples in a list. \n",
    "\n",
    "a=[(1,2),(\"d\",),(\"m\",34)] \n",
    "for i in a:\n",
    "    i.replace(34,43)\n",
    "print()"
   ]
  },
  {
   "cell_type": "code",
   "execution_count": 33,
   "id": "24162b70",
   "metadata": {},
   "outputs": [
    {
     "data": {
      "text/plain": [
       "2"
      ]
     },
     "execution_count": 33,
     "metadata": {},
     "output_type": "execute_result"
    }
   ],
   "source": [
    "#  Write a Python program to find the repeated items of a tuple.  \n",
    "dd=(23,56.5,\"switch\",23)\n",
    "dd.count(23)"
   ]
  },
  {
   "cell_type": "code",
   "execution_count": null,
   "id": "f44f22c7",
   "metadata": {},
   "outputs": [],
   "source": [
    "#  Write a Python program to remove an empty tuple(s) from a list of tuples."
   ]
  },
  {
   "cell_type": "code",
   "execution_count": null,
   "id": "f7325926",
   "metadata": {},
   "outputs": [],
   "source": [
    "#  Write a Python program to unzip a list of tuples into individual lists. "
   ]
  },
  {
   "cell_type": "code",
   "execution_count": null,
   "id": "05ae6a9e",
   "metadata": {},
   "outputs": [],
   "source": [
    "#  Write a Python program to convert a list of tuples into a dictionary. "
   ]
  },
  {
   "cell_type": "code",
   "execution_count": null,
   "id": "48ea749c",
   "metadata": {},
   "outputs": [],
   "source": [
    "\n",
    "#  How will you create a dictionary using tuples in python? "
   ]
  },
  {
   "cell_type": "code",
   "execution_count": null,
   "id": "07241ec0",
   "metadata": {},
   "outputs": [],
   "source": [
    "# #  Write a Python script to sort (ascending and descending) a dictionary by value. \n",
    "  \n",
    " \n",
    " \n",
    "  \n",
    " \n",
    "\n"
   ]
  },
  {
   "cell_type": "code",
   "execution_count": null,
   "id": "16bf568e",
   "metadata": {},
   "outputs": [],
   "source": [
    "#  Write a Python script to concatenate following dictionaries to create a new one."
   ]
  },
  {
   "cell_type": "code",
   "execution_count": null,
   "id": "3a155ce6",
   "metadata": {},
   "outputs": [],
   "source": [
    "#  Write a Python script to check if a given key already exists in a dictionary. "
   ]
  },
  {
   "cell_type": "code",
   "execution_count": null,
   "id": "e6d477d1",
   "metadata": {},
   "outputs": [],
   "source": [
    "#  How Do You Traverse Through A Dictionary Object In Python? "
   ]
  },
  {
   "cell_type": "code",
   "execution_count": null,
   "id": "5e3e0ea0",
   "metadata": {},
   "outputs": [],
   "source": [
    "#  How Do You Check The Presence Of A Key In A Dictionary?"
   ]
  },
  {
   "cell_type": "code",
   "execution_count": null,
   "id": "dd41f6c5",
   "metadata": {},
   "outputs": [],
   "source": [
    "#  Write a Python script to print a dictionary where the keys are numbers between 1 and 15. "
   ]
  },
  {
   "cell_type": "code",
   "execution_count": null,
   "id": "747d8e60",
   "metadata": {},
   "outputs": [],
   "source": [
    "#  Write a Python program to check multiple keys exists in a dictionary "
   ]
  },
  {
   "cell_type": "code",
   "execution_count": null,
   "id": "8d0caeb9",
   "metadata": {},
   "outputs": [],
   "source": [
    "#  Write a Python script to merge two Python dictionaries"
   ]
  },
  {
   "cell_type": "code",
   "execution_count": null,
   "id": "1eb92f7c",
   "metadata": {},
   "outputs": [],
   "source": [
    " \n",
    "#  Write a Python program to map two lists into a dictionary"
   ]
  }
 ],
 "metadata": {
  "kernelspec": {
   "display_name": "Python 3 (ipykernel)",
   "language": "python",
   "name": "python3"
  },
  "language_info": {
   "codemirror_mode": {
    "name": "ipython",
    "version": 3
   },
   "file_extension": ".py",
   "mimetype": "text/x-python",
   "name": "python",
   "nbconvert_exporter": "python",
   "pygments_lexer": "ipython3",
   "version": "3.9.13"
  }
 },
 "nbformat": 4,
 "nbformat_minor": 5
}
