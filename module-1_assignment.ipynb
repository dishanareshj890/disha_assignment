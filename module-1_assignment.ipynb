{
 "cells": [
  {
   "cell_type": "code",
   "execution_count": 1,
   "id": "665afbfc",
   "metadata": {},
   "outputs": [],
   "source": [
    "#What is software?\n",
    "ans1-->Software is a collection of computer programs & related documents that are intended to provide desired features,\n",
    "functionalities and better performance.\n",
    "\n"
   ]
  },
  {
   "cell_type": "code",
   "execution_count": 2,
   "id": "328448b4",
   "metadata": {},
   "outputs": [],
   "source": [
    "#what are the types of Application?\n",
    "Web application,Mobile application,Desktop application.\n"
   ]
  },
  {
   "cell_type": "code",
   "execution_count": 3,
   "id": "1e00cf5f",
   "metadata": {},
   "outputs": [],
   "source": [
    "#what is programming?\n",
    "Programming is writing code to perform specific actions or task in a computer,\n",
    "application or software program, and instructs them on how to perform."
   ]
  },
  {
   "cell_type": "code",
   "execution_count": 4,
   "id": "6d71574c",
   "metadata": {},
   "outputs": [],
   "source": [
    "#what is python?\n",
    "python is  computer language used to built websites and softwares.Guido Van Rossom introduced python language."
   ]
  },
  {
   "cell_type": "code",
   "execution_count": null,
   "id": "472add39",
   "metadata": {},
   "outputs": [],
   "source": []
  }
 ],
 "metadata": {
  "kernelspec": {
   "display_name": "Python 3 (ipykernel)",
   "language": "python",
   "name": "python3"
  },
  "language_info": {
   "codemirror_mode": {
    "name": "ipython",
    "version": 3
   },
   "file_extension": ".py",
   "mimetype": "text/x-python",
   "name": "python",
   "nbconvert_exporter": "python",
   "pygments_lexer": "ipython3",
   "version": "3.9.13"
  }
 },
 "nbformat": 4,
 "nbformat_minor": 5
}
