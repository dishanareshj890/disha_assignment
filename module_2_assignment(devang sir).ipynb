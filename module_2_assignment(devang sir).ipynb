{
 "cells": [
  {
   "cell_type": "markdown",
   "id": "1550b065",
   "metadata": {},
   "source": []
  },
  {
   "cell_type": "code",
   "execution_count": 1,
   "id": "64955c6e",
   "metadata": {},
   "outputs": [
    {
     "name": "stdout",
     "output_type": "stream",
     "text": [
      "-9\n",
      "negative\n"
     ]
    }
   ],
   "source": [
    "#Ans-1\n",
    "#write a python program to check if a number is positive,negative or zero.\n",
    "var1=int(input())\n",
    "if var1 >= 0:\n",
    "    print(\"positive\")\n",
    "elif var1==0:\n",
    "    print(\"Zero\")\n",
    "else:\n",
    "    print(\"negative\")\n"
   ]
  },
  {
   "cell_type": "code",
   "execution_count": 4,
   "id": "92ad1743",
   "metadata": {},
   "outputs": [
    {
     "ename": "IndentationError",
     "evalue": "expected an indented block (2852845362.py, line 8)",
     "output_type": "error",
     "traceback": [
      "\u001b[1;36m  File \u001b[1;32m\"C:\\Users\\admin\\AppData\\Local\\Temp\\ipykernel_700\\2852845362.py\"\u001b[1;36m, line \u001b[1;32m8\u001b[0m\n\u001b[1;33m    \u001b[0m\n\u001b[1;37m    ^\u001b[0m\n\u001b[1;31mIndentationError\u001b[0m\u001b[1;31m:\u001b[0m expected an indented block\n"
     ]
    }
   ],
   "source": [
    "#write a python program to get the factorial number of a given number.\n",
    "j=0\n",
    "var2=int(input())\n",
    "for i in range(1,var2+1):\n",
    "   \n",
    "\n",
    "    \n",
    "    "
   ]
  },
  {
   "cell_type": "code",
   "execution_count": 5,
   "id": "8697d922",
   "metadata": {},
   "outputs": [],
   "source": [
    "#write a python program to get the fibonacci eries of a given range."
   ]
  },
  {
   "cell_type": "code",
   "execution_count": 6,
   "id": "38e7e824",
   "metadata": {},
   "outputs": [],
   "source": [
    "#how memory is managed n python"
   ]
  },
  {
   "cell_type": "code",
   "execution_count": 7,
   "id": "d1ed4a01",
   "metadata": {},
   "outputs": [],
   "source": [
    "#what is the purpose continue statement in python?\n"
   ]
  },
  {
   "cell_type": "code",
   "execution_count": 9,
   "id": "ae4d1c64",
   "metadata": {},
   "outputs": [
    {
     "name": "stdout",
     "output_type": "stream",
     "text": [
      "1\n",
      "2\n",
      "i is: 2\n",
      "j is: 1\n"
     ]
    }
   ],
   "source": [
    "#Write python program to swap two number with  temp variable and without temp variable\n",
    "i=int(input())\n",
    "j=int(input())\n",
    "\n",
    "i,j=j,i\n",
    "print(\"i is:\",i)\n",
    "print(\"j is:\",j)"
   ]
  },
  {
   "cell_type": "code",
   "execution_count": 11,
   "id": "85a178ef",
   "metadata": {},
   "outputs": [
    {
     "name": "stdout",
     "output_type": "stream",
     "text": [
      "4\n",
      "Number is Even\n"
     ]
    }
   ],
   "source": [
    "#Write a Python program to find whether a given number is even or odd, print out an appropriate message to the user\n",
    "num=int(input())\n",
    "if num % 2==0:\n",
    "    print(\"Number is Even\")\n",
    "elif num==0:\n",
    "    print(\"Number is Zero\")\n",
    "else:\n",
    "    print(\"Number is Odd\")"
   ]
  },
  {
   "cell_type": "code",
   "execution_count": 15,
   "id": "81ebdc96",
   "metadata": {},
   "outputs": [
    {
     "name": "stdout",
     "output_type": "stream",
     "text": [
      "k\n",
      "It is not a vowel.\n"
     ]
    }
   ],
   "source": [
    "#Write a Python program to test whether a passed letter is a vowel or not.\n",
    "letter=input()\n",
    "i=[\"a\",\"e\",\"i\",\"o\",\"u\"]\n",
    "if letter in i:\n",
    "    print(\"It is a vowel.\")\n",
    "else:\n",
    "    print(\"It is not a vowel.\")\n",
    "    "
   ]
  },
  {
   "cell_type": "code",
   "execution_count": 21,
   "id": "e48027e0",
   "metadata": {},
   "outputs": [
    {
     "name": "stdout",
     "output_type": "stream",
     "text": [
      "1\n",
      "1\n",
      "3\n",
      "zero\n"
     ]
    }
   ],
   "source": [
    "#Write a Python program to sum of three given integers.However, if two values are equal sum will be zero.\n",
    "one=int(input())\n",
    "two=int(input())\n",
    "three=int(input())\n",
    "if one!=two!=three:\n",
    "    print(one+two+three)\n",
    "elif one==two or two==three or three==one:\n",
    "    print(\"zero\")"
   ]
  },
  {
   "cell_type": "code",
   "execution_count": 8,
   "id": "d189b05d",
   "metadata": {},
   "outputs": [
    {
     "name": "stdout",
     "output_type": "stream",
     "text": [
      "2\n",
      "6\n",
      "False\n"
     ]
    }
   ],
   "source": [
    "#Write a Python program that will return true if the two given integer values are equal or their sum or difference is 5.\n",
    "abc=int(input())\n",
    "bcd=int(input())\n",
    "if abc==bcd or abc+bcd==5 or abc-bcd==5:\n",
    "    print(True)\n",
    "else:\n",
    "    print(False)\n",
    "\n",
    "\n"
   ]
  },
  {
   "cell_type": "code",
   "execution_count": null,
   "id": "9692d892",
   "metadata": {},
   "outputs": [],
   "source": []
  },
  {
   "cell_type": "code",
   "execution_count": 26,
   "id": "813e50ce",
   "metadata": {},
   "outputs": [
    {
     "name": "stdout",
     "output_type": "stream",
     "text": [
      "5\n"
     ]
    }
   ],
   "source": [
    "#Write a python program to sum of the first n positive integers.\n",
    "aa= int(input())\n",
    "abc= (aa*(aa+1))/2 #answer is not coming\n",
    "\n"
   ]
  },
  {
   "cell_type": "code",
   "execution_count": 15,
   "id": "5cd459d8",
   "metadata": {},
   "outputs": [
    {
     "name": "stdout",
     "output_type": "stream",
     "text": [
      "5\n",
      "15\n"
     ]
    }
   ],
   "source": [
    "#Write a python program to sum of the first n positive integers.\n",
    "\n",
    "eq=int(input())\n",
    "a=eq + 1\n",
    "b=a//2\n",
    "c=b *eq\n",
    "d=int(c)\n",
    "print(c)\n"
   ]
  },
  {
   "cell_type": "code",
   "execution_count": 11,
   "id": "c9083274",
   "metadata": {},
   "outputs": [
    {
     "name": "stdout",
     "output_type": "stream",
     "text": [
      "disha\n"
     ]
    },
    {
     "data": {
      "text/plain": [
       "5"
      ]
     },
     "execution_count": 11,
     "metadata": {},
     "output_type": "execute_result"
    }
   ],
   "source": [
    "#Write a Python program to calculate the length of a string.\n",
    "string=input()\n",
    "len(string)"
   ]
  },
  {
   "cell_type": "code",
   "execution_count": null,
   "id": "f5ee11dd",
   "metadata": {},
   "outputs": [],
   "source": [
    "# write a python program to count the number of characters(character frequency)in a string\n",
    "string1=input()\n",
    "count(string1)#how to do\n"
   ]
  },
  {
   "cell_type": "code",
   "execution_count": null,
   "id": "24bbafe8",
   "metadata": {},
   "outputs": [],
   "source": [
    "#what are negative indexes and why are they used\n",
    "negative index starts from the end of the string and is used to accesss each and every characters in string"
   ]
  },
  {
   "cell_type": "code",
   "execution_count": 22,
   "id": "fedf6896",
   "metadata": {},
   "outputs": [],
   "source": [
    "#write a python program to count occurances of a substring in a string.\n"
   ]
  },
  {
   "cell_type": "code",
   "execution_count": null,
   "id": "ad4bc073",
   "metadata": {},
   "outputs": [],
   "source": [
    "#write a python program to count the occurance of each word in a given sentence.\n"
   ]
  },
  {
   "cell_type": "code",
   "execution_count": 27,
   "id": "f749c0bb",
   "metadata": {},
   "outputs": [],
   "source": [
    "#Write a Python program to get a single string from two given strings, separated by a space and swap the first two\n",
    "#characters of each string. \n",
    "\n"
   ]
  },
  {
   "cell_type": "code",
   "execution_count": 31,
   "id": "6d5e0172",
   "metadata": {},
   "outputs": [
    {
     "name": "stdout",
     "output_type": "stream",
     "text": [
      "diing\n"
     ]
    }
   ],
   "source": [
    "e=\"di\"+\"ing\"\n",
    "print(e)\n"
   ]
  },
  {
   "cell_type": "code",
   "execution_count": 39,
   "id": "71ba5098",
   "metadata": {},
   "outputs": [
    {
     "name": "stdout",
     "output_type": "stream",
     "text": [
      "dis\n"
     ]
    }
   ],
   "source": [
    "#Write a Python program to add 'ing' at the end of a given string (length should be at least 3). If the given string\n",
    "#already ends with 'ing' then add 'ly' instead if the string length of the given string is less than 3, leave\n",
    "#it unchanged. \n",
    "c=input()\n",
    "if len(c)==3:\n",
    "    c+\"ing\"\n",
    "elif c+\"ing\":\n",
    "    c+\"ly\"\n",
    "elif len(c)<=3:\n",
    "    print(\"leave it unchanged\")\n",
    "    "
   ]
  },
  {
   "cell_type": "code",
   "execution_count": 40,
   "id": "a96e60cb",
   "metadata": {},
   "outputs": [],
   "source": [
    "#Write a Python program to find the first appearance of the substring 'not' and 'poor' from a given string, if 'not' \n",
    "#follows the 'poor', replace the whole 'not'...'poor'substring  with 'good'. Return the resulting string. "
   ]
  },
  {
   "cell_type": "code",
   "execution_count": 1,
   "id": "1a8153ad",
   "metadata": {},
   "outputs": [],
   "source": [
    "#Write a Python function that takes a list of words and returns the length of the longest one.\n",
    "\n"
   ]
  },
  {
   "cell_type": "code",
   "execution_count": null,
   "id": "c4de50f1",
   "metadata": {},
   "outputs": [],
   "source": [
    "#Write a Python function to reverses a string if its length is a multiple of 4. "
   ]
  },
  {
   "cell_type": "code",
   "execution_count": null,
   "id": "c484fb46",
   "metadata": {},
   "outputs": [],
   "source": [
    "#Write a Python program to get a string made of the first 2 and the last 2 chars from a given a string. If the string \n",
    "#length is less than 2, return instead of the empty string. o Sample String: w3resource'  o Expected Result: 'w3ce'  \n",
    "#o Sample String: 'w3'  o Expected Result: 'w3w3'  o Sample String: ' w' o Expected Result: Empty String "
   ]
  },
  {
   "cell_type": "code",
   "execution_count": null,
   "id": "1426aaef",
   "metadata": {},
   "outputs": [],
   "source": [
    "#Write a Python function to insert a string in the middle of a string"
   ]
  },
  {
   "cell_type": "code",
   "execution_count": null,
   "id": "92f657b0",
   "metadata": {},
   "outputs": [],
   "source": []
  }
 ],
 "metadata": {
  "kernelspec": {
   "display_name": "Python 3 (ipykernel)",
   "language": "python",
   "name": "python3"
  },
  "language_info": {
   "codemirror_mode": {
    "name": "ipython",
    "version": 3
   },
   "file_extension": ".py",
   "mimetype": "text/x-python",
   "name": "python",
   "nbconvert_exporter": "python",
   "pygments_lexer": "ipython3",
   "version": "3.9.13"
  }
 },
 "nbformat": 4,
 "nbformat_minor": 5
}
