{
 "cells": [
  {
   "cell_type": "code",
   "execution_count": 2,
   "id": "0c5269c5",
   "metadata": {},
   "outputs": [
    {
     "name": "stdout",
     "output_type": "stream",
     "text": [
      "[5, 4, 3, 2, 1]\n"
     ]
    }
   ],
   "source": [
    "#==>What is List? How will you reverse a list?  \n",
    "\n",
    "#list is ordered,indexed,mutable,allows duplicates as an element,all datatypes can be considered as an element in list.\n",
    "#We shall reverse the list by using reverse method.\n",
    "#for example\n",
    "l1=[1,2,3,4,5]\n",
    "l1.reverse()\n",
    "print(l1)\n"
   ]
  },
  {
   "cell_type": "code",
   "execution_count": 6,
   "id": "0196705d",
   "metadata": {},
   "outputs": [
    {
     "name": "stdout",
     "output_type": "stream",
     "text": [
      "[2, 33, 222, 14]\n"
     ]
    }
   ],
   "source": [
    "#==>How will you remove last object from a list? \n",
    "#Suppose list1 is [2, 33, 222, 14, and 25], what is list1 [-1]? \n",
    "#list of [-1] is 25\n",
    "#By using remove and pop method\n",
    "#for example\n",
    "l2=[2,33,222,14,25]\n",
    "l2.remove(25)\n",
    "print(l2)"
   ]
  },
  {
   "cell_type": "code",
   "execution_count": 7,
   "id": "3574130a",
   "metadata": {},
   "outputs": [
    {
     "data": {
      "text/plain": [
       "25"
      ]
     },
     "execution_count": 7,
     "metadata": {},
     "output_type": "execute_result"
    }
   ],
   "source": [
    "l2=[2,33,222,14,25]\n",
    "l2.pop()#pop method by default removes last element and returns the element which is removed so that we can save and use it if we want.\n"
   ]
  },
  {
   "cell_type": "code",
   "execution_count": 9,
   "id": "f76ae0c0",
   "metadata": {},
   "outputs": [
    {
     "name": "stdout",
     "output_type": "stream",
     "text": [
      "[2, 3, 4, 5, 6, 6, 7, 7, 8, 'disha']\n"
     ]
    }
   ],
   "source": [
    "#==>Differentiate between append () and extend () methods?  \n",
    "#Append adds the given element at the end of the list while in extend method it adds\n",
    "#the element one by one at the end of the given list.\n",
    "#for example\n",
    "l3=[2,3,4,5,6,6,7,7,8]\n",
    "l3.append(\"disha\")\n",
    "print(l3)\n"
   ]
  },
  {
   "cell_type": "code",
   "execution_count": 10,
   "id": "c843beb9",
   "metadata": {},
   "outputs": [
    {
     "name": "stdout",
     "output_type": "stream",
     "text": [
      "[2, 3, 4, 5, 6, 6, 7, 7, 8, 'd', 'i', 's', 'h', 'a']\n"
     ]
    }
   ],
   "source": [
    "l3=[2,3,4,5,6,6,7,7,8]\n",
    "l3.extend(\"disha\")\n",
    "print(l3)\n"
   ]
  },
  {
   "cell_type": "code",
   "execution_count": 12,
   "id": "fda08b74",
   "metadata": {},
   "outputs": [
    {
     "name": "stdout",
     "output_type": "stream",
     "text": [
      "[1, 2, 3, 3, 4, 5, 6, 7, 7, 8, 8, 9]\n"
     ]
    }
   ],
   "source": [
    "#==>Write a Python function to get the largest number, smallest num and sum of all from a list.\n",
    "l4=[7,5,4,3,7,8,9,3,6,8,2,1]\n",
    "l4.sort()#to get the smallest number.\n",
    "print(l4)"
   ]
  },
  {
   "cell_type": "code",
   "execution_count": 13,
   "id": "ce74b8b6",
   "metadata": {},
   "outputs": [
    {
     "name": "stdout",
     "output_type": "stream",
     "text": [
      "[9, 8, 8, 7, 7, 6, 5, 4, 3, 3, 2, 1]\n"
     ]
    }
   ],
   "source": [
    "l4=[7,5,4,3,7,8,9,3,6,8,2,1]\n",
    "l4.sort(reverse=True)#for largest number\n",
    "print(l4)"
   ]
  },
  {
   "cell_type": "code",
   "execution_count": 28,
   "id": "81c76a80",
   "metadata": {},
   "outputs": [
    {
     "name": "stdout",
     "output_type": "stream",
     "text": [
      "3\n",
      "22\n",
      "33\n",
      "44\n",
      "largest number: 44\n",
      "smallest number: 22\n",
      "Sum: 99\n"
     ]
    }
   ],
   "source": [
    "#==>Write a Python function to get the largest number, smallest num and sum of all from a list.\n",
    "\n",
    "ab=int(input())\n",
    "empty_list=[]\n",
    "\n",
    "for i in range(ab):\n",
    "    element=int(input())\n",
    "    empty_list.append(element)\n",
    "print(\"largest number:\",max(empty_list))\n",
    "print(\"smallest number:\" ,min(empty_list))\n",
    "print(\"Sum:\",sum(empty_list))"
   ]
  },
  {
   "cell_type": "code",
   "execution_count": 29,
   "id": "4fa65759",
   "metadata": {},
   "outputs": [
    {
     "data": {
      "text/plain": [
       "False"
      ]
     },
     "execution_count": 29,
     "metadata": {},
     "output_type": "execute_result"
    }
   ],
   "source": [
    "#==>How will you compare two lists?\n",
    "#example=1\n",
    "aa=[11,1,22,2,33,3]\n",
    "bb=[33,3,44,4,55,5,66,6]\n",
    "aa==bb#by using ==operator"
   ]
  },
  {
   "cell_type": "code",
   "execution_count": 30,
   "id": "0f462977",
   "metadata": {},
   "outputs": [
    {
     "data": {
      "text/plain": [
       "False"
      ]
     },
     "execution_count": 30,
     "metadata": {},
     "output_type": "execute_result"
    }
   ],
   "source": [
    "#example=2\n",
    "cc=[4,7,0]\n",
    "dd=[7,0,4]\n",
    "cc==dd"
   ]
  },
  {
   "cell_type": "code",
   "execution_count": 31,
   "id": "76835bb2",
   "metadata": {},
   "outputs": [
    {
     "data": {
      "text/plain": [
       "True"
      ]
     },
     "execution_count": 31,
     "metadata": {},
     "output_type": "execute_result"
    }
   ],
   "source": [
    "#example=3\n",
    "cc=[4,7,0]\n",
    "ee=[4,7,0]\n",
    "cc==ee"
   ]
  },
  {
   "cell_type": "code",
   "execution_count": 3,
   "id": "764f3af9",
   "metadata": {},
   "outputs": [
    {
     "data": {
      "text/plain": [
       "2"
      ]
     },
     "execution_count": 3,
     "metadata": {},
     "output_type": "execute_result"
    }
   ],
   "source": [
    "#==>Write a Python program to count the number of strings where the string \n",
    "#length is 2 or more and the first and last character are same from a given list of strings. \n",
    "\n",
    "ac=[\"adisha\",\"njain\",\"sclass\",\"adisha\"]\n",
    "ac.count(\"adisha\")"
   ]
  },
  {
   "cell_type": "code",
   "execution_count": 8,
   "id": "3fb81f20",
   "metadata": {},
   "outputs": [
    {
     "name": "stdout",
     "output_type": "stream",
     "text": [
      "4\n",
      "2\n",
      "2\n",
      "2\n",
      "unique values: [2, 2, 2]\n"
     ]
    }
   ],
   "source": [
    "#==>Write a Python program to remove duplicates from a list. \n",
    "ad=int(input())\n",
    "empty_list=[]\n",
    "empty_set=set()\n",
    "for i in range(ad):\n",
    "    if i not in empty_set:\n",
    "        element=int(input())\n",
    "        empty_list.append(i)\n",
    "        empty_set.add(i)\n",
    "print(\"unique values:\",empty_list)"
   ]
  },
  {
   "cell_type": "code",
   "execution_count": 5,
   "id": "2a99eb37",
   "metadata": {},
   "outputs": [
    {
     "name": "stdout",
     "output_type": "stream",
     "text": [
      "{'python', 'data analysis', 'data science'}\n"
     ]
    }
   ],
   "source": [
    "#==>Write a Python program to remove duplicates from a list.\n",
    "A=set([\"python\",\"data analysis\",\"data science\",\"python\"])\n",
    "print(A)\n"
   ]
  },
  {
   "cell_type": "code",
   "execution_count": 39,
   "id": "04234d7f",
   "metadata": {},
   "outputs": [
    {
     "name": "stdout",
     "output_type": "stream",
     "text": [
      "[2, 3, 4, 5, 6]\n"
     ]
    }
   ],
   "source": [
    "#==>Write a Python program to remove duplicates from a list. \n",
    "\n",
    "ad=[2,2,3,3,4,4,5,5,6]\n",
    "y=list(dict.fromkeys(ad))\n",
    "print(y)"
   ]
  },
  {
   "cell_type": "code",
   "execution_count": 11,
   "id": "53e0d33e",
   "metadata": {},
   "outputs": [
    {
     "name": "stdout",
     "output_type": "stream",
     "text": [
      "dishaaaa\n",
      "['d', 'i', 's', 'h', 'a']\n"
     ]
    }
   ],
   "source": [
    "#==>Write a Python program to remove duplicates from a list. \n",
    "\n",
    "fd=input()\n",
    "c=list(dict.fromkeys(fd))\n",
    "print(c)"
   ]
  },
  {
   "cell_type": "code",
   "execution_count": 40,
   "id": "bd2c46a5",
   "metadata": {},
   "outputs": [
    {
     "data": {
      "text/plain": [
       "9"
      ]
     },
     "execution_count": 40,
     "metadata": {},
     "output_type": "execute_result"
    }
   ],
   "source": [
    "#==>Write a Python program to check a list is empty or not. \n",
    "ad=[2,2,3,3,4,4,5,5,6]\n",
    "len(ad)"
   ]
  },
  {
   "cell_type": "code",
   "execution_count": null,
   "id": "26e5c5d1",
   "metadata": {
    "scrolled": true
   },
   "outputs": [
    {
     "name": "stdout",
     "output_type": "stream",
     "text": [
      "3\n",
      "1\n",
      "List is not Empty\n"
     ]
    }
   ],
   "source": [
    "ee=int(input())\n",
    "empty_list=[]\n",
    "\n",
    "for i in range(ee):\n",
    "    arg=int(input())\n",
    "    empty_list.append(i)\n",
    "    if len(empty_list)>0:\n",
    "        print(\"List is not Empty\")\n",
    "    if len(empty_list)<=0:\n",
    "        print(\"List is empty\")\n",
    "print(empty_list)    \n"
   ]
  },
  {
   "cell_type": "code",
   "execution_count": null,
   "id": "d12f7290",
   "metadata": {},
   "outputs": [],
   "source": [
    "ee=int(input())\n",
    "empty_list=[]\n",
    "\n",
    "for i in range(ee):\n",
    "    arg=int(input())\n",
    "    empty_list.append(arg)\n",
    "    if len(empty_list)>=0:\n",
    "        print(\"List is not Empty\")\n",
    "    if len(empty_list)<=0:\n",
    "        print(\"List is empty\")\n",
    "print(empty_list)    \n"
   ]
  },
  {
   "cell_type": "code",
   "execution_count": 3,
   "id": "29ef2eb7",
   "metadata": {},
   "outputs": [
    {
     "name": "stdout",
     "output_type": "stream",
     "text": [
      "Not an emptylist\n"
     ]
    }
   ],
   "source": [
    "list1=[1,2,3,5,7]\n",
    "if len(list1)>0:\n",
    "    print(\"Not an emptylist\")\n",
    "else:\n",
    "    print(\"emptylist\")"
   ]
  },
  {
   "cell_type": "code",
   "execution_count": 13,
   "id": "a3f01b5f",
   "metadata": {},
   "outputs": [
    {
     "name": "stdout",
     "output_type": "stream",
     "text": [
      "0\n",
      "Not an emptylist\n"
     ]
    }
   ],
   "source": [
    "list1=list(input())\n",
    "if len(list1)>0:\n",
    "    print(\"Not an emptylist\")\n",
    "else:\n",
    "    print(\"emptylist\")"
   ]
  },
  {
   "cell_type": "code",
   "execution_count": 2,
   "id": "7ae2bff8",
   "metadata": {},
   "outputs": [
    {
     "name": "stdout",
     "output_type": "stream",
     "text": [
      "False\n",
      "False\n",
      "False\n",
      "False\n",
      "[]\n"
     ]
    }
   ],
   "source": [
    "#==>Write a Python function that takes two lists and returns true if they have at least one common member.  \n",
    "\n",
    "q=[4,5,2,3]\n",
    "w=[4,5,6,7]\n",
    "\n",
    "empty_list=[]\n",
    "\n",
    "\n",
    "for i in q:\n",
    "    if i==w:\n",
    "        empty_list.append(i)\n",
    "        print(True)\n",
    "    else:\n",
    "        print(False)\n",
    "print(empty_list)\n",
    "\n",
    "    "
   ]
  },
  {
   "cell_type": "code",
   "execution_count": 13,
   "id": "4d0fb4fc",
   "metadata": {},
   "outputs": [
    {
     "name": "stdout",
     "output_type": "stream",
     "text": [
      "True\n",
      "False\n",
      "False\n",
      "False\n",
      "False\n",
      "True\n",
      "False\n",
      "False\n",
      "False\n",
      "False\n",
      "False\n",
      "False\n",
      "False\n",
      "False\n",
      "False\n",
      "False\n"
     ]
    }
   ],
   "source": [
    "#==>Write a Python function that takes two lists and returns true if they have at least one common member.  \n",
    "\n",
    "q=[4,5,2,3]\n",
    "w=[4,5,6,7]\n",
    "\n",
    "for i in q:\n",
    "    for j in w:\n",
    "        if i==j:\n",
    "            print(True)\n",
    "        else:\n",
    "            print(False)\n",
    "    "
   ]
  },
  {
   "cell_type": "code",
   "execution_count": null,
   "id": "9b06506a",
   "metadata": {},
   "outputs": [],
   "source": []
  }
 ],
 "metadata": {
  "kernelspec": {
   "display_name": "Python 3 (ipykernel)",
   "language": "python",
   "name": "python3"
  },
  "language_info": {
   "codemirror_mode": {
    "name": "ipython",
    "version": 3
   },
   "file_extension": ".py",
   "mimetype": "text/x-python",
   "name": "python",
   "nbconvert_exporter": "python",
   "pygments_lexer": "ipython3",
   "version": "3.9.13"
  }
 },
 "nbformat": 4,
 "nbformat_minor": 5
}
